{
 "cells": [
  {
   "cell_type": "markdown",
   "metadata": {},
   "source": [
    "# 总结文档"
   ]
  },
  {
   "cell_type": "markdown",
   "metadata": {},
   "source": [
    "## 一、basic_cnn.py中init()函数：\n"
   ]
  },
  {
   "cell_type": "markdown",
   "metadata": {},
   "source": [
    "### 初始化 "
   ]
  },
  {
   "cell_type": "code",
   "execution_count": 6,
   "metadata": {},
   "outputs": [],
   "source": [
    "def __init__(self, n_channel=3, n_classes=10, image_size=24):\n",
    "        # 输入变量\n",
    "        self.images = tf.placeholder(\n",
    "            dtype=tf.float32, shape=[None, image_size, image_size, n_channel], name='images')\n",
    "        self.labels = tf.placeholder(\n",
    "            dtype=tf.int64, shape=[None], name='labels')\n",
    "        self.keep_prob = tf.placeholder(\n",
    "            dtype=tf.float32, name='keep_prob')\n",
    "        self.global_step = tf.Variable( \n",
    "            0, dtype=tf.int32, name='global_step')"
   ]
  },
  {
   "cell_type": "markdown",
   "metadata": {},
   "source": [
    "此函数中，输入的三个参数分别的含义如下：\n",
    "* n_channel=3：信道个数为３\n",
    "* n_classes=10：分类的类别共有１０个\n",
    "* image_size=24：图片的大小"
   ]
  },
  {
   "cell_type": "markdown",
   "metadata": {},
   "source": [
    "对self.images、self.labels、self.keep_prob用了占位符函数tf.placeholder()进行初始化赋值。"
   ]
  },
  {
   "cell_type": "markdown",
   "metadata": {},
   "source": [
    "对self.global_step使用了tf.Variable()函数进行初始化。"
   ]
  },
  {
   "cell_type": "markdown",
   "metadata": {},
   "source": [
    "###  优化器"
   ]
  },
  {
   "cell_type": "code",
   "execution_count": null,
   "metadata": {},
   "outputs": [],
   "source": [
    "lr = tf.cond(tf.less(self.global_step, 50000),\n",
    "             lambda: tf.constant(0.01),\n",
    "             lambda: tf.cond(tf.less(self.global_step, 100000),\n",
    "                             lambda: tf.constant(0.001),\n",
    "                             lambda: tf.constant(0.0001)))\n",
    "self.optimizer = tf.train.AdamOptimizer(learning_rate=lr).minimize(\n",
    "            self.avg_loss, global_step=self.global_step)"
   ]
  },
  {
   "cell_type": "markdown",
   "metadata": {},
   "source": [
    "上述代码主要实现了变化学习率的技术，在前50000个batch使用0.01的学习率，之后50000~100000个batch使用0.001的学习率，之后的学习率降到0.0001"
   ]
  },
  {
   "cell_type": "markdown",
   "metadata": {},
   "source": [
    "优化器：具体作用是用来随着epoch的增加，使得学习率不断地进行变化，从而提升模型性能"
   ]
  },
  {
   "cell_type": "markdown",
   "metadata": {},
   "source": [
    "## 二、plain_cnn.py中init()函数 "
   ]
  },
  {
   "cell_type": "markdown",
   "metadata": {},
   "source": [
    "### 初始化 "
   ]
  },
  {
   "cell_type": "code",
   "execution_count": 8,
   "metadata": {},
   "outputs": [],
   "source": [
    "def __init__(self, n_channel=3, n_classes=10, image_size=24):\n",
    "        # 设置超参数\n",
    "        self.n_channel = n_channel\n",
    "        self.n_classes = n_classes\n",
    "        self.image_size = image_size\n",
    "        \n",
    "        # 输入变量\n",
    "        self.images = tf.placeholder(\n",
    "            dtype=tf.float32, shape=[None, self.image_size, self.image_size, self.n_channel], \n",
    "            name='images')\n",
    "        self.labels = tf.placeholder(\n",
    "            dtype=tf.int64, shape=[None], name='labels')\n",
    "        self.keep_prob = tf.placeholder(\n",
    "            dtype=tf.float32, name='keep_prob')\n",
    "        self.global_step = tf.Variable(\n",
    "            0, dtype=tf.int32, name='global_step')"
   ]
  },
  {
   "cell_type": "markdown",
   "metadata": {},
   "source": [
    "模型参数是模型内部的配置变量，可以用数据估计模型参数的值；模型超参数是模型外部的配置，必须手动设置参数的值。"
   ]
  },
  {
   "cell_type": "markdown",
   "metadata": {},
   "source": [
    "###  优化器"
   ]
  },
  {
   "cell_type": "code",
   "execution_count": null,
   "metadata": {},
   "outputs": [],
   "source": [
    "lr = tf.cond(tf.less(self.global_step, 50000),\n",
    "             lambda: tf.constant(0.01),\n",
    "             lambda: tf.cond(tf.less(self.global_step, 100000),\n",
    "                             lambda: tf.constant(0.005),\n",
    "                             lambda: tf.cond(tf.less(self.global_step, 150000),\n",
    "                                             lambda: tf.constant(0.0025),\n",
    "                                             lambda: tf.constant(0.001))))                                                                                                                                                                         \n",
    "self.optimizer = tf.train.AdamOptimizer(learning_rate=lr).minimize(\n",
    "            self.avg_loss, global_step=self.global_step)"
   ]
  },
  {
   "cell_type": "markdown",
   "metadata": {},
   "source": [
    "前50000个batch使用0.01的学习率，之后50000~100000个batch使用0.005的学习率，100000~150000个batch使用0.0025的学习率，之后学习率变为0.001"
   ]
  },
  {
   "cell_type": "markdown",
   "metadata": {},
   "source": [
    "## 三、residual_net.py中init()函数 "
   ]
  },
  {
   "cell_type": "markdown",
   "metadata": {},
   "source": [
    "### 初始化 "
   ]
  },
  {
   "cell_type": "code",
   "execution_count": 9,
   "metadata": {},
   "outputs": [],
   "source": [
    "def __init__(self, n_channel=3, n_classes=10, image_size=24, n_layers=20):\n",
    "        # 设置超参数\n",
    "        self.n_channel = n_channel\n",
    "        self.n_classes = n_classes\n",
    "        self.image_size = image_size\n",
    "        self.n_layers = n_layers\n",
    "\n",
    "        # 输入变量\n",
    "        self.images = tf.placeholder(\n",
    "            dtype=tf.float32, shape=[\n",
    "                None, self.image_size, self.image_size, self.n_channel],\n",
    "            name='images')\n",
    "        self.labels = tf.placeholder(\n",
    "            dtype=tf.int64, shape=[None], name='labels')\n",
    "        self.keep_prob = tf.placeholder(\n",
    "            dtype=tf.float32, name='keep_prob')\n",
    "        self.global_step = tf.Variable(\n",
    "            0, dtype=tf.int32, name='global_step')"
   ]
  },
  {
   "cell_type": "markdown",
   "metadata": {},
   "source": [
    "新增参数n_layers=20，为残差网络的层数，初始化为20"
   ]
  },
  {
   "cell_type": "markdown",
   "metadata": {},
   "source": [
    "### 优化器 "
   ]
  },
  {
   "cell_type": "code",
   "execution_count": null,
   "metadata": {},
   "outputs": [],
   "source": [
    "lr = tf.cond(tf.less(self.global_step, 50000),\n",
    "             lambda: tf.constant(0.01),\n",
    "             lambda: tf.cond(tf.less(self.global_step, 100000),\n",
    "                             lambda: tf.constant(0.005),\n",
    "                             lambda: tf.cond(tf.less(self.global_step, 150000),\n",
    "                                             lambda: tf.constant(0.0025),\n",
    "                                             lambda: tf.constant(0.001))))                                                                                                  \n",
    "self.optimizer = tf.train.AdamOptimizer(learning_rate=lr).minimize(\n",
    "            self.avg_loss, global_step=self.global_step)"
   ]
  },
  {
   "cell_type": "markdown",
   "metadata": {},
   "source": [
    "前50000个batch使用0.01的学习率，之后50000~100000个batch使用0.005的学习率，100000~150000个batch使用0.0025的学习率，之后学习率变为0.001"
   ]
  },
  {
   "cell_type": "markdown",
   "metadata": {},
   "source": [
    "tf.train.AdamOptimizer(learning_rate=lr).minimize用于最小化loss"
   ]
  },
  {
   "cell_type": "markdown",
   "metadata": {},
   "source": [
    "## 四、数据增强技术 "
   ]
  },
  {
   "cell_type": "markdown",
   "metadata": {},
   "source": [
    "数据增强：主要是在训练数据上增加微小的扰动或者变化，一方面可以增加训练数据，从而提升模型的泛化能力，另一方面可以增加噪声数据，从而增强模型的健壮性。"
   ]
  },
  {
   "cell_type": "markdown",
   "metadata": {},
   "source": [
    "主要的数据增强方法有：翻转变换 flip、随机修剪（random crop）、色彩抖动（color jittering）、平移变换（shift）、尺度变换（scale）、对比度变换（contrast）、噪声扰动（noise）、旋转变换/反射变换 （rotation/reflection）等"
   ]
  },
  {
   "cell_type": "code",
   "execution_count": null,
   "metadata": {},
   "outputs": [],
   "source": [
    "def data_augmentation(self, images, mode='train', flip=False,\n",
    "                      crop=False, crop_shape=(24,24,3), whiten=False,\n",
    "                      noise=False, noise_mean=0, noise_std=0.01):\n",
    "    # 图像切割\n",
    "    if crop:\n",
    "        if mode == 'train':           \n",
    "            images = self._image_crop(images, shape=crop_shape)\n",
    "        elif mode == 'test':\n",
    "            images = self._image_crop_test(images, shape=crop_shape)\n",
    "    # 图像翻转\n",
    "    if flip:\n",
    "        images = self._image_flip(images)\n",
    "    # 图像白化\n",
    "    if whiten:\n",
    "        images = self._image_whitening(images)\n",
    "    # 图像噪声\n",
    "    if noise:\n",
    "        images = self._image_noise(images, mean=noise_mean, std=noise_std)\n",
    "            \n",
    "    return images\n",
    "                                                                \n",
    "def _image_crop(self, images, shape):\n",
    "    # 图像切割\n",
    "    new_images = []\n",
    "    for i in range(images.shape[0]):\n",
    "        old_image = images[i,:,:,:]\n",
    "        # 返回左闭右开区间[0,old_image.shape[0] - shape[0] + 1）上离散均匀分布的整数值\n",
    "        left = numpy.random.randint(old_image.shape[0] - shape[0] + 1)\n",
    "        top = numpy.random.randint(old_image.shape[1] - shape[1] + 1)\n",
    "        new_image = old_image[left: left+shape[0], top: top+shape[1], :]\n",
    "        new_images.append(new_image)\n",
    "        \n",
    "    return numpy.array(new_images)\n",
    "        \n",
    "    \n",
    "def _image_crop_test(self, images, shape):\n",
    "    # 图像切割\n",
    "    new_images = []\n",
    "    for i in range(images.shape[0]):        \n",
    "        old_image = images[i,:,:,:]\n",
    "        left = int((old_image.shape[0] - shape[0]) / 2)\n",
    "        top = int((old_image.shape[1] - shape[1]) / 2)\n",
    "        new_image = old_image[left: left+shape[0], top: top+shape[1], :]\n",
    "        new_images.append(new_image)\n",
    "        \n",
    "    return numpy.array(new_images)\n",
    "        \n",
    "    \n",
    "def _image_flip(self, images):\n",
    "    # 图像翻转\n",
    "    for i in range(images.shape[0]):\n",
    "        old_image = images[i,:,:,:]\n",
    "        # numpy.random.random()随机生成在[0.0,1.0]中的浮点数\n",
    "        if numpy.random.random() < 0.5:\n",
    "            # cv2.flip(old_image, 1)对图像进行水平翻转\n",
    "            new_image = cv2.flip(old_image, 1)\n",
    "        else:\n",
    "            new_image = old_image\n",
    "        images[i,:,:,:] = new_image\n",
    "        \n",
    "    return images\n",
    "    \n",
    "def _image_whitening(self, images):\n",
    "    # 图像白化，即归一化处理\n",
    "    for i in range(images.shape[0]):\n",
    "        old_image = images[i,:,:,:]\n",
    "        # numpy.mean()求均值；　numpy.std()求标准差；\n",
    "        new_image = (old_image - numpy.mean(old_image)) / numpy.std(old_image)\n",
    "        images[i,:,:,:] = new_image\n",
    "        \n",
    "    return images\n",
    "    \n",
    "def _image_noise(self, images, mean=0, std=0.01):\n",
    "    # 图像噪声\n",
    "    for i in range(images.shape[0]):\n",
    "        old_image = images[i,:,:,:]\n",
    "        new_image = old_image\n",
    "        for i in range(image.shape[0]):\n",
    "            for j in range(image.shape[1]):\n",
    "                for k in range(image.shape[2]):\n",
    "                    # 生成随机数，将其加到像素值上，这里使用的是高斯噪声\n",
    "                    new_image[i, j, k] += random.gauss(mean, std)\n",
    "        images[i,:,:,:] = new_image\n",
    "        \n",
    "    return images"
   ]
  },
  {
   "cell_type": "markdown",
   "metadata": {},
   "source": [
    "* 图像切割(_image_crop)：生成比图像尺寸小一些的矩形框，对图像进行随机的切割，最终以矩形框内的图像作为训练数据。"
   ]
  },
  {
   "cell_type": "markdown",
   "metadata": {},
   "source": [
    "* 图像翻转(_image_flip)：随机对图像进行左右翻转。"
   ]
  },
  {
   "cell_type": "markdown",
   "metadata": {},
   "source": [
    "* 图像白化：对图像进行白化操作，即将图像本身归一化成Gaussian(0,1)分布。"
   ]
  },
  {
   "cell_type": "markdown",
   "metadata": {},
   "source": [
    "* 图像噪声：防止过拟合"
   ]
  }
 ],
 "metadata": {
  "kernelspec": {
   "display_name": "Python 3",
   "language": "python",
   "name": "python3"
  },
  "language_info": {
   "codemirror_mode": {
    "name": "ipython",
    "version": 3
   },
   "file_extension": ".py",
   "mimetype": "text/x-python",
   "name": "python",
   "nbconvert_exporter": "python",
   "pygments_lexer": "ipython3",
   "version": "3.6.4"
  },
  "toc": {
   "base_numbering": 1,
   "nav_menu": {},
   "number_sections": true,
   "sideBar": true,
   "skip_h1_title": false,
   "title_cell": "Table of Contents",
   "title_sidebar": "Contents",
   "toc_cell": false,
   "toc_position": {},
   "toc_section_display": true,
   "toc_window_display": false
  }
 },
 "nbformat": 4,
 "nbformat_minor": 2
}
